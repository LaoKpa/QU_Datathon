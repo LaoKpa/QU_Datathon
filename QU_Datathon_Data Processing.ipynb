{
 "cells": [
  {
   "cell_type": "markdown",
   "metadata": {},
   "source": [
    "# Part II: Data Processing and Order Book Construction"
   ]
  },
  {
   "cell_type": "markdown",
   "metadata": {},
   "source": [
    "## Import the packages and load the data"
   ]
  },
  {
   "cell_type": "code",
   "execution_count": null,
   "metadata": {},
   "outputs": [],
   "source": [
    "import pandas as pd\n",
    "import numpy as np\n",
    "\n",
    "df = pd.read_csv('btc_usd.csv', header = 0, index_col = 0)\n",
    "df.datetime = [np.datetime64(df.datetime[i]) for i in range(len(df))]"
   ]
  },
  {
   "cell_type": "markdown",
   "metadata": {},
   "source": [
    "## Make the order book\n",
    "Subtract the information from the tick data to construct the order book which reflects the information of market trading decisions and deals.\n",
    "Major variables:\n",
    "- `self.book`: The dictionary which documents the existing orders with the keys being the prices and the values being the volumes;\n",
    "- `self.prices`: The ascending list which documents all the prices of the existing orders; \n",
    "- `self.best_bid` and `self.best_ask`: The index of the position of the best bid and ask prices in `self.prices`. When all the orders are bids, `self.best_bid = -1`; when all the orders are asks, `self.best_ask = len(self.prices)`. With these position indicator, we could easily distinguish the ask orders and bid orders in `self.book`.\n",
    "\n",
    "Every time and order is placed, the object take in the information which includes:\n",
    "- `price`: The price of the order, which is a positive real number;\n",
    "- `volume`: The volume of the order;\n",
    "- `direction`: the indicator of sell (-1) or buy (1)."
   ]
  },
  {
   "cell_type": "code",
   "execution_count": 884,
   "metadata": {},
   "outputs": [],
   "source": [
    "class order_book(object):\n",
    "    def __init__(self):\n",
    "        # initialize the book\n",
    "        self.best_bid = -1\n",
    "        self.best_ask = 0\n",
    "        self.book = None\n",
    "        self.prices = None\n",
    "        self.epsilon = 10 ** (-8)\n",
    "\n",
    "    def add_order(self, price, volume, direction):\n",
    "        # the actual deal prices which the new order triggers\n",
    "        actual_price = []\n",
    "        \n",
    "        # when the first order comes..\n",
    "        if (self.book is None):\n",
    "            self.book = {price: volume}\n",
    "            self.prices = [price]\n",
    "            if (direction == 1):\n",
    "                self.best_bid = 0\n",
    "                self.best_ask = 1\n",
    "            return 0, actual_price\n",
    "\n",
    "        # when all the orders are asks\n",
    "        if (self.best_bid < 0):\n",
    "            if (direction == -1):\n",
    "                if (price in self.prices):\n",
    "                    self.book[price] += volume\n",
    "                else:\n",
    "                    self.book[price] = volume\n",
    "                    self.prices.append(price)\n",
    "                    self.prices.sort()\n",
    "                return 0, actual_price\n",
    "\n",
    "        # when all the orders are bids\n",
    "        if (self.best_ask == len(self.prices)):\n",
    "            if (direction == 1):\n",
    "                if (price in self.prices):\n",
    "                    self.book[price] += volume\n",
    "                else:\n",
    "                    self.book[price] = volume\n",
    "                    self.prices.append(price)\n",
    "                    self.prices.sort()\n",
    "                    self.best_ask += 1\n",
    "                    self.best_bid += 1\n",
    "                return 0, actual_price\n",
    "\n",
    "        # add a buy order to the book\n",
    "        if (direction == 1) and (price < self.prices[self.best_ask]):\n",
    "            if (price in self.prices):\n",
    "                self.book[price] += volume\n",
    "            else:\n",
    "                self.book[price] = volume\n",
    "                self.prices.append(price)\n",
    "                self.prices.sort()\n",
    "                self.best_bid += 1\n",
    "                self.best_ask += 1\n",
    "            return 0, actual_price\n",
    "\n",
    "        # add a sell order to the book\n",
    "        if (direction == -1) and (price > self.prices[self.best_bid]):\n",
    "            if (price in self.prices):\n",
    "                self.book[price] += volume\n",
    "            else:\n",
    "                self.book[price] = volume\n",
    "                self.prices.append(price)\n",
    "                self.prices.sort()\n",
    "            return 0, actual_price\n",
    "\n",
    "        if (direction == 1) and (price >= self.prices[self.best_ask]):\n",
    "            dvol = min(volume, self.book[self.prices[self.best_ask]])\n",
    "            self.book[self.prices[self.best_ask]] -= dvol\n",
    "            volume -= dvol\n",
    "            actual_price.append(self.prices[self.best_ask])\n",
    "\n",
    "            while True:\n",
    "                # the order has been absorbed\n",
    "                if (volume < self.epsilon):\n",
    "                    break\n",
    "\n",
    "                self.book.pop(self.prices[self.best_ask])\n",
    "                self.prices.pop(self.best_ask)\n",
    "\n",
    "                # the order penetrates all the asks\n",
    "                if (self.best_ask == len(self.prices)):\n",
    "                    if (volume != 0):\n",
    "                        self.prices.append(price)\n",
    "                        self.book[price] = volume\n",
    "                        self.best_bid += 1\n",
    "                        self.best_ask += 1\n",
    "                    break\n",
    "\n",
    "                # the order fails to go any further\n",
    "                if (price < self.prices[self.best_ask]):\n",
    "                    self.book[price] = volume\n",
    "                    self.prices.append(price)\n",
    "                    self.prices.sort()\n",
    "                    self.best_ask += 1\n",
    "                    self.best_bid += 1\n",
    "                    break\n",
    "\n",
    "                dvol_0 = min(volume, self.book[self.prices[self.best_ask]])\n",
    "                self.book[self.prices[self.best_ask]] -= dvol_0\n",
    "                volume -= dvol_0\n",
    "                dvol += dvol_0\n",
    "                actual_price.append(self.prices[self.best_ask])\n",
    "\n",
    "            return dvol, actual_price\n",
    "\n",
    "        if (direction == -1) and (price <= self.prices[self.best_bid]):\n",
    "            dvol = min(volume, self.book[self.prices[self.best_bid]])\n",
    "            self.book[self.prices[self.best_bid]] -= dvol\n",
    "            volume -= dvol\n",
    "            actual_price.append(self.prices[self.best_bid])\n",
    "\n",
    "            while True:\n",
    "                # the order has been absorbed\n",
    "                if (volume < self.epsilon):\n",
    "                    break\n",
    "\n",
    "                self.book.pop(self.prices[self.best_bid])\n",
    "                self.prices.pop(self.best_bid)\n",
    "                self.best_ask -= 1\n",
    "                self.best_bid -= 1\n",
    "\n",
    "                # the order penetrates all the bids\n",
    "                if (self.best_bid < 0):\n",
    "                    if (volume != 0):\n",
    "                        self.prices.insert(0, price)\n",
    "                        self.book[price] = volume\n",
    "                    self.best_bid = -1\n",
    "                    self.best_ask = 0\n",
    "                    break\n",
    "\n",
    "                # the order fails to go any further\n",
    "                if (price > self.prices[self.best_bid]):\n",
    "                    self.book[price] = volume\n",
    "                    self.prices.append(price)\n",
    "                    self.prices.sort()\n",
    "                    break\n",
    "\n",
    "                dvol_0 = min(volume, self.book[self.prices[self.best_bid]])\n",
    "                self.book[self.prices[self.best_bid]] -= dvol_0\n",
    "                volume -= dvol_0\n",
    "                dvol += dvol_0\n",
    "                actual_price.append(self.prices[self.best_bid])\n",
    "\n",
    "            return dvol, actual_price\n",
    "\n",
    "    def brief(self):\n",
    "        # print out the information regarding the market orders\n",
    "        briefing = ''\n",
    "        for (i, price) in enumerate(self.prices):\n",
    "            if (i <= self.best_bid):\n",
    "                briefing += ('Bid: ' + str(price) + '; vol: ' + str(self.book[price])) + '\\n'\n",
    "            else:\n",
    "                briefing += ('Ask: ' + str(price) + '; vol: ' + str(self.book[price])) + '\\n'\n",
    "        return briefing"
   ]
  },
  {
   "cell_type": "markdown",
   "metadata": {},
   "source": [
    "Let's conduct a simple test to see how this orderbook works..."
   ]
  },
  {
   "cell_type": "code",
   "execution_count": 883,
   "metadata": {},
   "outputs": [
    {
     "name": "stdout",
     "output_type": "stream",
     "text": [
      "First test:\n",
      "Bid: 100; vol: 50\n",
      "\n",
      "Second test:\n",
      "Bid: 100; vol: 50\n",
      "Bid: 110; vol: 150\n",
      "\n",
      "Third test:\n",
      "Bid: 100; vol: 50\n",
      "Bid: 110; vol: 150\n",
      "Bid: 120; vol: 80\n",
      "\n",
      "Fourth test:\n",
      "Bid: 100; vol: 50\n",
      "Bid: 110; vol: 150\n",
      "Bid: 120; vol: 80\n",
      "Ask: 125; vol: 50\n",
      "\n",
      "Fifth test:\n",
      "Bid: 100; vol: 50\n",
      "Bid: 110; vol: 150\n",
      "Ask: 115; vol: 70\n",
      "Ask: 125; vol: 50\n",
      "\n",
      "Sixth test:\n",
      "Ask: 95; vol: 300\n",
      "Ask: 115; vol: 70\n",
      "Ask: 125; vol: 50\n",
      "\n"
     ]
    }
   ],
   "source": [
    "my_order_book_test = order_book()\n",
    "\n",
    "my_order_book_test.add_order(100, 50, 1)\n",
    "print('First test:')\n",
    "print(my_order_book_test.brief())\n",
    "\n",
    "my_order_book_test.add_order(110, 150, 1)\n",
    "print('Second test:')\n",
    "print(my_order_book_test.brief())\n",
    "\n",
    "my_order_book_test.add_order(120, 80, 1)\n",
    "print('Third test:')\n",
    "print( my_order_book_test.brief())\n",
    "\n",
    "my_order_book_test.add_order(125, 50, -1)\n",
    "print('Fourth test:')\n",
    "print(my_order_book_test.brief())\n",
    "\n",
    "my_order_book_test.add_order(115, 150, -1)\n",
    "print('Fifth test:')\n",
    "print(my_order_book_test.brief())\n",
    "\n",
    "my_order_book_test.add_order(95, 500, -1)\n",
    "print('Sixth test:')\n",
    "print(my_order_book_test.brief())"
   ]
  },
  {
   "cell_type": "markdown",
   "metadata": {},
   "source": [
    "## Use the order book to process the tick data"
   ]
  },
  {
   "cell_type": "code",
   "execution_count": null,
   "metadata": {},
   "outputs": [],
   "source": [
    "sb = {'buy': 1, 'sell': -1}\n",
    "sb[df.type[0]]\n",
    "\n",
    "dt = np.timedelta64('60', 's')\n",
    "i = 0\n",
    "t0 = df.datetime[i]\n",
    "t1 = t0 + dt\n",
    "\n",
    "prices = pd.DataFrame(columns = ['open', 'close', 'high', 'low', 'vol'])\n",
    "my_order_book = order_book()\n",
    "\n",
    "while i < len(df):\n",
    "    temp_prices = []\n",
    "    temp_volume = []\n",
    "    while df.datetime[i] < t1:\n",
    "        (temp_temp_volume, temp_temp_prices) = my_order_book.add_order(df.price[i], df.quantity[i], sb[df.type[i]])\n",
    "        temp_volume.append(temp_temp_volume)\n",
    "        temp_prices += temp_temp_prices\n",
    "        i += 1\n",
    "    try:\n",
    "        prices.loc[t0] = [temp_prices[0], temp_prices[-1], max(temp_prices), min(temp_prices), sum(temp_volume)]\n",
    "    except:\n",
    "        price = prices.close[t0 - dt]\n",
    "        prices.loc[t0] = [price, price, price, price, 0]\n",
    "    t0 += dt\n",
    "    t1 += dt"
   ]
  },
  {
   "cell_type": "markdown",
   "metadata": {},
   "source": [
    "### A visualization of the distribution of an intermediate stage of the order book"
   ]
  },
  {
   "cell_type": "code",
   "execution_count": 898,
   "metadata": {},
   "outputs": [
    {
     "data": {
      "text/plain": [
       "<BarContainer object of 360 artists>"
      ]
     },
     "execution_count": 898,
     "metadata": {},
     "output_type": "execute_result"
    },
    {
     "data": {
      "image/png": "[encoded data removed]",
      "text/plain": [
       "<Figure size 432x288 with 1 Axes>"
      ]
     },
     "metadata": {},
     "output_type": "display_data"
    }
   ],
   "source": [
    "from matplotlib import pyplot as plt\n",
    "%matplotlib inline\n",
    "\n",
    "b_prices = my_order_book.prices[:my_order_book.best_bid]\n",
    "a_prices = my_order_book.prices[my_order_book.best_ask:]\n",
    "\n",
    "b_sizes = [my_order_book.book[price] for price in b_prices]\n",
    "a_sizes = [my_order_book.book[price] for price in a_prices]\n",
    "\n",
    "plt.bar(b_prices, b_sizes,color = 'g')\n",
    "plt.bar(a_prices, a_sizes,color = 'r')"
   ]
  },
  {
   "cell_type": "markdown",
   "metadata": {},
   "source": [
    "An overlook of how the OHLC-Volume data looks like..."
   ]
  },
  {
   "cell_type": "code",
   "execution_count": 886,
   "metadata": {},
   "outputs": [
    {
     "name": "stdout",
     "output_type": "stream",
     "text": [
      "                        open    close     high      low        vol\n",
      "2018-01-01 00:00:01  13763.0  13765.0  13788.0  13763.0   1.886770\n",
      "2018-01-01 00:01:01  13765.0  13746.0  13765.0  13741.0   5.706395\n",
      "2018-01-01 00:02:01  13746.0  13741.0  13750.0  13741.0   3.742622\n",
      "2018-01-01 00:03:01  13741.0  13735.0  13741.0  13735.0   3.804955\n",
      "2018-01-01 00:04:01  13735.0  13734.0  13735.0  13734.0   7.086961\n",
      "2018-01-01 00:05:01  13734.0  13564.0  13734.0  13559.0  30.757124\n",
      "2018-01-01 00:06:01  13559.0  13570.0  13570.0  13559.0   6.221985\n",
      "2018-01-01 00:07:01  13570.0  13581.0  13581.0  13570.0  13.681397\n",
      "2018-01-01 00:08:01  13581.0  13615.0  13615.0  13581.0  11.861682\n",
      "2018-01-01 00:09:01  13615.0  13634.0  13636.0  13607.0  25.698492\n"
     ]
    }
   ],
   "source": [
    "print(prices.head(10))\n",
    "np.save('prices.npy', np.array(prices))"
   ]
  }
 ],
 "metadata": {
  "kernelspec": {
   "display_name": "Python 3",
   "language": "python",
   "name": "python3"
  },
  "language_info": {
   "codemirror_mode": {
    "name": "ipython",
    "version": 3
   },
   "file_extension": ".py",
   "mimetype": "text/x-python",
   "name": "python",
   "nbconvert_exporter": "python",
   "pygments_lexer": "ipython3",
   "version": "3.6.2"
  }
 },
 "nbformat": 4,
 "nbformat_minor": 2
}
